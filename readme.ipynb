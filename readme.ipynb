{
 "cells": [
  {
   "cell_type": "markdown",
   "id": "7decd024",
   "metadata": {},
   "source": [
    "# CLEXP Module for working with CL Expense Forms\n",
    "\n",
    "This is a short script for aiding in creating expense statement forms\n",
    "for the computer lab.\n",
    "\n",
    "Before you start, create a file in your working directory called\n",
    "`_config.yaml`\n",
    "\n",
    "It should be of the following form\n",
    "\n",
    "    title: # e.g. Professor, Dr etc\n",
    "    name: # Your full name\n",
    "    grant_code: # Grant code starting with GXXXX\n",
    "    four_digits: # Last four digits of your bank account number\n",
    "    payroll: # Your eight digit payroll reference number\n",
    "    directory: # Directory where the files are to be stored\n",
    "    template_file: # The name of the template expense file (e.g. template-expense-claims-partii.xlsx)\n",
    "\n",
    "Now you can install the package and create your expense report.\n",
    "\n",
    "``` python\n",
    "%pip install git+https://github.com/lawrennd/clexp.git\n",
    "```\n",
    "\n",
    "You can download the template expense claim form from here."
   ]
  },
  {
   "cell_type": "code",
   "execution_count": null,
   "id": "d6200c3c",
   "metadata": {},
   "outputs": [],
   "source": [
    "import urllib.request\n",
    "urllib.request.urlretrieve('https://github.com/lawrennd/clexp/raw/main/template-expense-claims-partii.xlsx', 'template-expense-claims-partii.xlsx')"
   ]
  },
  {
   "cell_type": "markdown",
   "id": "30d7d768",
   "metadata": {},
   "source": [
    "Now log in to your expensify account.\n",
    "\n",
    "1.  Download the Expensify Report 'Expense Summary' (top right corner on\n",
    "    this link: <https://www.expensify.com/reports?param=>). Save it as\n",
    "    `YYYY-MM-DD-bulk-export-id-expense-summary.csv` and update the\n",
    "    `expense_data_csv` variable below (use the real, year, date and\n",
    "    month to keep track of things)."
   ]
  },
  {
   "cell_type": "code",
   "execution_count": null,
   "id": "87249b33",
   "metadata": {},
   "outputs": [],
   "source": [
    "expense_data_csv = 'YYYY-MM-DD-bulk-export-id-expense-summary.csv'"
   ]
  },
  {
   "cell_type": "markdown",
   "id": "21919a12",
   "metadata": {},
   "source": [
    "## Run the Script\n",
    "\n",
    "Run the script below. It will create a separate excel spreadsheet for\n",
    "each report."
   ]
  },
  {
   "cell_type": "code",
   "execution_count": null,
   "id": "2f58aa25",
   "metadata": {},
   "outputs": [],
   "source": [
    "import os\n",
    "import sys\n",
    "from datetime import date\n",
    "import re\n",
    "import pandas as pd\n",
    "\n",
    "import clexp.expenses as exp\n",
    "\n",
    "# Read the template file\n",
    "form_df = pd.read_excel(os.path.join(exp.config[\"template_file\"]), header=None)\n",
    "exp.excel_style(form_df)\n",
    "# Read the report data from Expensify\n",
    "data_df = pd.read_csv(os.path.join(expense_data_csv), thousands=',', \n",
    "                      dtype={'original_amount': float, 'amount': float})\n",
    "\n",
    "# Establish unique report ids.\n",
    "report_ids = pd.unique(data_df.report_id)\n",
    "\n",
    "# Write the reports\n",
    "for i in report_ids:\n",
    "    df2 = exp.write_claim(data_df[data_df.report_id==i], form_df)"
   ]
  },
  {
   "cell_type": "code",
   "execution_count": null,
   "id": "908c2b55",
   "metadata": {},
   "outputs": [],
   "source": []
  }
 ],
 "metadata": {
  "kernelspec": {
   "display_name": "Python 3",
   "language": "python",
   "name": "python3"
  },
  "language_info": {
   "codemirror_mode": {
    "name": "ipython",
    "version": 3
   },
   "file_extension": ".py",
   "mimetype": "text/x-python",
   "name": "python",
   "nbconvert_exporter": "python",
   "pygments_lexer": "ipython3",
   "version": "3.8.8"
  }
 },
 "nbformat": 4,
 "nbformat_minor": 5
}
